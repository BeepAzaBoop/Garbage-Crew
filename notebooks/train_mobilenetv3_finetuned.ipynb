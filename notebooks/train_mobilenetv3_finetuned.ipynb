{
  "cells": [
    {
      "cell_type": "code",
      "execution_count": 1,
      "metadata": {
        "id": "TBAu5ScNFppC"
      },
      "outputs": [],
      "source": [
        "import zipfile\n",
        "\n",
        "zip_path = \"/content/multi-class-garbage-classification.zip\"\n",
        "extract_path = \"/content/multi-class-garbage-classification\"\n",
        "\n",
        "with zipfile.ZipFile(zip_path, 'r') as zip_ref:\n",
        "    zip_ref.extractall(extract_path)"
      ]
    },
    {
      "cell_type": "code",
      "execution_count": null,
      "metadata": {
        "id": "LUmKzheJHx3v"
      },
      "outputs": [],
      "source": [
        "# !pip install --upgrade torch"
      ]
    },
    {
      "cell_type": "code",
      "execution_count": 18,
      "metadata": {
        "colab": {
          "base_uri": "https://localhost:8080/"
        },
        "id": "qYkQSCi8M7Vk",
        "outputId": "891592e3-470f-4084-fb15-2d6770cbdcf9"
      },
      "outputs": [
        {
          "name": "stdout",
          "output_type": "stream",
          "text": [
            "Downloading from https://www.kaggle.com/api/v1/datasets/download/siddhantmaji/unified-waste-classification-dataset?dataset_version_number=1...\n"
          ]
        },
        {
          "name": "stderr",
          "output_type": "stream",
          "text": [
            "100%|██████████| 955M/955M [00:47<00:00, 21.0MB/s]"
          ]
        },
        {
          "name": "stdout",
          "output_type": "stream",
          "text": [
            "Extracting files...\n"
          ]
        },
        {
          "name": "stderr",
          "output_type": "stream",
          "text": [
            "\n"
          ]
        },
        {
          "name": "stdout",
          "output_type": "stream",
          "text": [
            "Path to dataset files: /root/.cache/kagglehub/datasets/siddhantmaji/unified-waste-classification-dataset/versions/1/content/unified_dataset\n"
          ]
        }
      ],
      "source": [
        "import kagglehub\n",
        "\n",
        "unified = kagglehub.dataset_download(\"siddhantmaji/unified-waste-classification-dataset\")\n",
        "unified = f\"{unified}/content/unified_dataset\"  # adjust based on your extraction path\n",
        "print(\"Path to dataset files:\", unified)"
      ]
    },
    {
      "cell_type": "code",
      "execution_count": 19,
      "metadata": {
        "colab": {
          "base_uri": "https://localhost:8080/"
        },
        "id": "7MRRS-AnNh0h",
        "outputId": "12d35ec3-b9f2-460f-f39a-f82b59771540"
      },
      "outputs": [
        {
          "name": "stdout",
          "output_type": "stream",
          "text": [
            "✅ Copied 1000 images to /content/multi-class-garbage-classification/content/multi-class-garbage-classification/battery\n",
            "✅ Copied 1000 images to /content/multi-class-garbage-classification/content/multi-class-garbage-classification/textiles\n"
          ]
        }
      ],
      "source": [
        "import shutil\n",
        "import os\n",
        "\n",
        "# Paths\n",
        "original_dataset_dir = \"/content/multi-class-garbage-classification/content/multi-class-garbage-classification\"\n",
        "unified_dataset_dir = unified  # already set earlier\n",
        "\n",
        "# Classes to add\n",
        "missing_classes = [\"battery\", \"textiles\"]\n",
        "num_images_to_copy = 1000\n",
        "\n",
        "for cls in missing_classes:\n",
        "    src_dir = os.path.join(unified_dataset_dir, cls)\n",
        "    dst_dir = os.path.join(original_dataset_dir, cls)\n",
        "\n",
        "    # Create destination directory if it doesn't exist\n",
        "    os.makedirs(dst_dir, exist_ok=True)\n",
        "\n",
        "    # List all image files in the source class folder\n",
        "    images = sorted([\n",
        "        f for f in os.listdir(src_dir)\n",
        "        if f.lower().endswith(('.png', '.jpg', '.jpeg', '.bmp'))\n",
        "    ])\n",
        "\n",
        "    # Copy up to 1000 images\n",
        "    for i, img_name in enumerate(images[:num_images_to_copy]):\n",
        "        src_path = os.path.join(src_dir, img_name)\n",
        "        dst_path = os.path.join(dst_dir, f\"{cls}_{i}{os.path.splitext(img_name)[1]}\")\n",
        "        shutil.copyfile(src_path, dst_path)\n",
        "\n",
        "    print(f\"✅ Copied {min(len(images), num_images_to_copy)} images to {dst_dir}\")"
      ]
    },
    {
      "cell_type": "code",
      "execution_count": 20,
      "metadata": {
        "id": "p2KXONxA7O01"
      },
      "outputs": [],
      "source": [
        "import os\n",
        "import torch\n",
        "from torchvision import transforms, datasets\n",
        "\n",
        "data_dir = \"/content/multi-class-garbage-classification/content/multi-class-garbage-classification\"\n",
        "IMG_SIZE = 224\n",
        "BATCH_SIZE = 32\n",
        "\n",
        "transform = transforms.Compose([\n",
        "    transforms.Resize((IMG_SIZE, IMG_SIZE)),\n",
        "    transforms.ToTensor(),\n",
        "    transforms.Normalize(mean=[0.485, 0.456, 0.406], std=[0.229, 0.224, 0.225]),\n",
        "])\n",
        "\n",
        "# Load dataset using ImageFolder\n",
        "dataset = datasets.ImageFolder(root=data_dir, transform=transform)"
      ]
    },
    {
      "cell_type": "code",
      "execution_count": 21,
      "metadata": {
        "id": "ITp0FVm47rUX"
      },
      "outputs": [],
      "source": [
        "from sklearn.model_selection import train_test_split\n",
        "from torch.utils.data import DataLoader, Subset\n",
        "\n",
        "targets = [sample[1] for sample in dataset.samples]\n",
        "\n",
        "train_idx, val_idx = train_test_split(\n",
        "    range(len(dataset)), test_size=0.2, stratify=targets, random_state=42\n",
        ")\n",
        "\n",
        "train_dataset = Subset(dataset, train_idx)\n",
        "val_dataset = Subset(dataset, val_idx)\n",
        "\n",
        "train_loader = DataLoader(train_dataset, batch_size=BATCH_SIZE, shuffle=True)\n",
        "val_loader = DataLoader(val_dataset, batch_size=BATCH_SIZE)"
      ]
    },
    {
      "cell_type": "code",
      "execution_count": 27,
      "metadata": {
        "id": "1TgFoMz-7S0y"
      },
      "outputs": [],
      "source": [
        "import torch.nn as nn\n",
        "from torchvision import models\n",
        "\n",
        "device = torch.device(\"cuda\" if torch.cuda.is_available() else \"cpu\")\n",
        "\n",
        "model = torch.load(\"/content/mobilenetv3_garbage_classifier.pt\", weights_only=False)\n",
        "model = model.to(device)"
      ]
    },
    {
      "cell_type": "code",
      "execution_count": 28,
      "metadata": {
        "id": "YIwIHcgC8j9N"
      },
      "outputs": [],
      "source": [
        "import torch.optim as optim\n",
        "\n",
        "criterion = nn.CrossEntropyLoss()\n",
        "optimizer = optim.Adam(model.parameters(), lr=1e-4)"
      ]
    },
    {
      "cell_type": "code",
      "execution_count": 29,
      "metadata": {
        "colab": {
          "base_uri": "https://localhost:8080/"
        },
        "id": "4QtMd7la-3ym",
        "outputId": "280e1b9c-d54d-45d2-d623-b8a9ac30229a"
      },
      "outputs": [
        {
          "name": "stderr",
          "output_type": "stream",
          "text": [
            "Epoch 1/30 [Train]: 100%|██████████| 200/200 [00:30<00:00,  6.61it/s]\n",
            "Epoch 1/30 [Val]: 100%|██████████| 50/50 [00:04<00:00, 10.68it/s]\n"
          ]
        },
        {
          "name": "stdout",
          "output_type": "stream",
          "text": [
            "Epoch 1: Train Loss = 0.2189 | Train Acc = 94.38% || Val Loss = 0.0754 | Val Acc = 97.81%\n",
            "✅ Validation loss improved — saving best weights.\n"
          ]
        },
        {
          "name": "stderr",
          "output_type": "stream",
          "text": [
            "Epoch 2/30 [Train]: 100%|██████████| 200/200 [00:30<00:00,  6.63it/s]\n",
            "Epoch 2/30 [Val]: 100%|██████████| 50/50 [00:04<00:00, 10.47it/s]\n"
          ]
        },
        {
          "name": "stdout",
          "output_type": "stream",
          "text": [
            "Epoch 2: Train Loss = 0.0347 | Train Acc = 98.83% || Val Loss = 0.0712 | Val Acc = 98.00%\n",
            "✅ Validation loss improved — saving best weights.\n"
          ]
        },
        {
          "name": "stderr",
          "output_type": "stream",
          "text": [
            "Epoch 3/30 [Train]: 100%|██████████| 200/200 [00:29<00:00,  6.67it/s]\n",
            "Epoch 3/30 [Val]: 100%|██████████| 50/50 [00:04<00:00, 10.39it/s]\n"
          ]
        },
        {
          "name": "stdout",
          "output_type": "stream",
          "text": [
            "Epoch 3: Train Loss = 0.0227 | Train Acc = 99.16% || Val Loss = 0.0592 | Val Acc = 98.56%\n",
            "✅ Validation loss improved — saving best weights.\n"
          ]
        },
        {
          "name": "stderr",
          "output_type": "stream",
          "text": [
            "Epoch 4/30 [Train]: 100%|██████████| 200/200 [00:30<00:00,  6.64it/s]\n",
            "Epoch 4/30 [Val]: 100%|██████████| 50/50 [00:04<00:00, 10.91it/s]\n"
          ]
        },
        {
          "name": "stdout",
          "output_type": "stream",
          "text": [
            "Epoch 4: Train Loss = 0.0135 | Train Acc = 99.62% || Val Loss = 0.0640 | Val Acc = 98.38%\n",
            "⚠️ No improvement for 1 epoch(s).\n"
          ]
        },
        {
          "name": "stderr",
          "output_type": "stream",
          "text": [
            "Epoch 5/30 [Train]: 100%|██████████| 200/200 [00:30<00:00,  6.61it/s]\n",
            "Epoch 5/30 [Val]: 100%|██████████| 50/50 [00:04<00:00, 11.54it/s]\n"
          ]
        },
        {
          "name": "stdout",
          "output_type": "stream",
          "text": [
            "Epoch 5: Train Loss = 0.0088 | Train Acc = 99.72% || Val Loss = 0.0601 | Val Acc = 98.62%\n",
            "⚠️ No improvement for 2 epoch(s).\n"
          ]
        },
        {
          "name": "stderr",
          "output_type": "stream",
          "text": [
            "Epoch 6/30 [Train]: 100%|██████████| 200/200 [00:30<00:00,  6.52it/s]\n",
            "Epoch 6/30 [Val]: 100%|██████████| 50/50 [00:04<00:00, 11.68it/s]"
          ]
        },
        {
          "name": "stdout",
          "output_type": "stream",
          "text": [
            "Epoch 6: Train Loss = 0.0072 | Train Acc = 99.78% || Val Loss = 0.0788 | Val Acc = 98.38%\n",
            "⚠️ No improvement for 3 epoch(s).\n",
            "⏹️ Early stopping at epoch 6. Restoring best model.\n"
          ]
        },
        {
          "name": "stderr",
          "output_type": "stream",
          "text": [
            "\n"
          ]
        }
      ],
      "source": [
        "from tqdm import tqdm\n",
        "import copy\n",
        "\n",
        "EPOCHS = 30\n",
        "patience = 3\n",
        "best_val_loss = float(\"inf\")\n",
        "epochs_without_improvement = 0\n",
        "best_model_weights = copy.deepcopy(model.state_dict())\n",
        "\n",
        "for epoch in range(EPOCHS):\n",
        "    # --- Training ---\n",
        "    model.train()\n",
        "    train_loss, train_correct, train_total = 0.0, 0, 0\n",
        "\n",
        "    for images, labels in tqdm(train_loader, desc=f\"Epoch {epoch+1}/{EPOCHS} [Train]\"):\n",
        "        images, labels = images.to(device), labels.to(device)\n",
        "\n",
        "        optimizer.zero_grad()\n",
        "        outputs = model(images)\n",
        "        loss = criterion(outputs, labels)\n",
        "        loss.backward()\n",
        "        optimizer.step()\n",
        "\n",
        "        train_loss += loss.item()\n",
        "        _, preds = outputs.max(1)\n",
        "        train_correct += (preds == labels).sum().item()\n",
        "        train_total += labels.size(0)\n",
        "\n",
        "    train_acc = 100 * train_correct / train_total\n",
        "    avg_train_loss = train_loss / len(train_loader)\n",
        "\n",
        "    # --- Validation ---\n",
        "    model.eval()\n",
        "    val_loss, val_correct, val_total = 0.0, 0, 0\n",
        "\n",
        "    with torch.no_grad():\n",
        "        for images, labels in tqdm(val_loader, desc=f\"Epoch {epoch+1}/{EPOCHS} [Val]\"):\n",
        "            images, labels = images.to(device), labels.to(device)\n",
        "            outputs = model(images)\n",
        "            loss = criterion(outputs, labels)\n",
        "\n",
        "            val_loss += loss.item()\n",
        "            _, preds = outputs.max(1)\n",
        "            val_correct += (preds == labels).sum().item()\n",
        "            val_total += labels.size(0)\n",
        "\n",
        "    val_acc = 100 * val_correct / val_total\n",
        "    avg_val_loss = val_loss / len(val_loader)\n",
        "\n",
        "    # --- Print Epoch Summary ---\n",
        "    print(\n",
        "        f\"Epoch {epoch+1}: \"\n",
        "        f\"Train Loss = {avg_train_loss:.4f} | Train Acc = {train_acc:.2f}% || \"\n",
        "        f\"Val Loss = {avg_val_loss:.4f} | Val Acc = {val_acc:.2f}%\"\n",
        "    )\n",
        "\n",
        "    # --- Early Stopping Check ---\n",
        "    if avg_val_loss < best_val_loss:\n",
        "        best_val_loss = avg_val_loss\n",
        "        best_model_weights = copy.deepcopy(model.state_dict())\n",
        "        epochs_without_improvement = 0\n",
        "        print(\"✅ Validation loss improved — saving best weights.\")\n",
        "    else:\n",
        "        epochs_without_improvement += 1\n",
        "        print(f\"⚠️ No improvement for {epochs_without_improvement} epoch(s).\")\n",
        "\n",
        "        if epochs_without_improvement >= patience:\n",
        "            print(f\"⏹️ Early stopping at epoch {epoch+1}. Restoring best model.\")\n",
        "            model.load_state_dict(best_model_weights)\n",
        "            break"
      ]
    },
    {
      "cell_type": "code",
      "execution_count": 30,
      "metadata": {
        "colab": {
          "base_uri": "https://localhost:8080/"
        },
        "id": "fysr9QehhHUA",
        "outputId": "bae955a5-8dd4-44ed-ef4e-faa4f6b59c85"
      },
      "outputs": [
        {
          "name": "stdout",
          "output_type": "stream",
          "text": [
            "                 precision    recall  f1-score   support\n",
            "\n",
            "        battery      1.000     1.000     1.000       200\n",
            "          glass      0.970     0.965     0.967       200\n",
            "          metal      0.970     0.985     0.978       200\n",
            "  organic_waste      0.990     0.985     0.987       200\n",
            "paper_cardboard      0.995     1.000     0.998       200\n",
            "        plastic      0.971     0.990     0.980       200\n",
            "       textiles      1.000     0.990     0.995       200\n",
            "          trash      0.990     0.970     0.980       200\n",
            "\n",
            "       accuracy                          0.986      1600\n",
            "      macro avg      0.986     0.986     0.986      1600\n",
            "   weighted avg      0.986     0.986     0.986      1600\n",
            "\n"
          ]
        }
      ],
      "source": [
        "from sklearn.metrics import classification_report\n",
        "\n",
        "all_preds = []\n",
        "all_labels = []\n",
        "\n",
        "model.eval()\n",
        "with torch.no_grad():\n",
        "    for images, labels in val_loader:\n",
        "        images, labels = images.to(device), labels.to(device)\n",
        "        outputs = model(images)\n",
        "        _, preds = torch.max(outputs, 1)\n",
        "\n",
        "        all_preds.extend(preds.cpu().numpy())\n",
        "        all_labels.extend(labels.cpu().numpy())\n",
        "\n",
        "# Generate report\n",
        "target_names = dataset.classes  # from ImageFolder — maps class indices to names\n",
        "report = classification_report(all_labels, all_preds, target_names=target_names, digits=3)\n",
        "print(report)"
      ]
    },
    {
      "cell_type": "code",
      "execution_count": 31,
      "metadata": {
        "id": "ik-z38BOhI_r"
      },
      "outputs": [],
      "source": [
        "torch.save(model, \"/content/mobilenetv3_garbage_classifier_2.pt\")"
      ]
    }
  ],
  "metadata": {
    "accelerator": "GPU",
    "colab": {
      "gpuType": "T4",
      "provenance": []
    },
    "kernelspec": {
      "display_name": "Python 3",
      "name": "python3"
    },
    "language_info": {
      "name": "python"
    }
  },
  "nbformat": 4,
  "nbformat_minor": 0
}
